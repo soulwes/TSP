{
 "cells": [
  {
   "cell_type": "code",
   "execution_count": 14,
   "id": "2e812b7e",
   "metadata": {},
   "outputs": [],
   "source": [
    "import numpy as np\n",
    "from copy import copy, deepcopy\n",
    "import collections\n",
    "import networkx as nx\n",
    "from sklearn.cluster import AffinityPropagation, DBSCAN\n",
    "import random\n",
    "from scipy.special import gamma\n",
    "from sklearn.neighbors import KDTree\n",
    "from collections import defaultdict\n",
    "from tqdm import tqdm\n",
    "from numpy import unique\n",
    "from numpy import where\n",
    "from matplotlib import pyplot\n",
    "from itertools import combinations\n",
    "from random import sample\n",
    "from itertools import permutations\n",
    "import random\n",
    "import time\n",
    "import warnings\n",
    "from importlib import reload\n",
    "warnings.filterwarnings(\"ignore\")"
   ]
  },
  {
   "cell_type": "code",
   "execution_count": 2,
   "id": "e8f989e6",
   "metadata": {},
   "outputs": [],
   "source": [
    "from Genetic import *\n",
    "from Mutation import *\n",
    "from Crossovers import *\n",
    "from Functions import *\n",
    "from Clustering import *\n",
    "from GeneticMtr import *\n",
    "from GeneticCentre import *"
   ]
  },
  {
   "cell_type": "code",
   "execution_count": 25,
   "id": "79a4b6f7",
   "metadata": {},
   "outputs": [],
   "source": [
    "rand_const = 59\n",
    "random.seed(rand_const)\n",
    "np.random.state = rand_const\n",
    "np.random.seed = rand_const"
   ]
  },
  {
   "cell_type": "code",
   "execution_count": 8,
   "id": "209ed6a5",
   "metadata": {},
   "outputs": [
    {
     "name": "stdout",
     "output_type": "stream",
     "text": [
      "51\n",
      "CPU times: user 22.5 ms, sys: 2.73 ms, total: 25.2 ms\n",
      "Wall time: 23.6 ms\n"
     ]
    }
   ],
   "source": [
    "%%time\n",
    "graph, n_vertex, coordianates = data_loader_new(\"eil51\")\n",
    "print(n_vertex)"
   ]
  },
  {
   "cell_type": "code",
   "execution_count": 9,
   "id": "a4f02449",
   "metadata": {},
   "outputs": [],
   "source": [
    "population = inzilization(200, n_vertex)"
   ]
  },
  {
   "cell_type": "code",
   "execution_count": 32,
   "id": "a6cded73",
   "metadata": {
    "scrolled": true
   },
   "outputs": [
    {
     "name": "stdout",
     "output_type": "stream",
     "text": [
      "200 min: 1412 avg: 1662.93 max: 1876\n"
     ]
    },
    {
     "name": "stderr",
     "output_type": "stream",
     "text": [
      " 34%|██████████████▌                            | 17/50 [00:29<00:57,  1.73s/it]"
     ]
    },
    {
     "name": "stdout",
     "output_type": "stream",
     "text": [
      "17\n",
      "200 min: 429 avg: 429.0 max: 429\n",
      "[3, 17, 13, 24, 12, 40, 18, 39, 41, 16, 36, 43, 14, 44, 32, 38, 9, 29, 33, 49, 8, 48, 4, 37, 10, 31, 0, 21, 1, 15, 20, 28, 19, 34, 35, 2, 27, 30, 25, 7, 47, 22, 6, 42, 23, 5, 26, 50, 45, 11, 46]\n"
     ]
    },
    {
     "name": "stderr",
     "output_type": "stream",
     "text": [
      "\n"
     ]
    },
    {
     "data": {
      "text/plain": [
       "[[466, 560.155, 688, 0],\n",
       " [460, 509.245, 543, 1],\n",
       " [460, 486.02, 522, 2],\n",
       " [453, 471.675, 496, 3],\n",
       " [450, 464.565, 487, 4],\n",
       " [444, 458.92, 475, 5],\n",
       " [444, 454.715, 466, 6],\n",
       " [435, 451.12, 466, 7],\n",
       " [435, 447.58, 460, 8],\n",
       " [435, 442.345, 450, 9],\n",
       " [431, 437.34, 446, 10],\n",
       " [429, 434.485, 444, 11],\n",
       " [429, 431.56, 435, 12],\n",
       " [429, 430.76, 431, 13],\n",
       " [429, 430.41, 431, 14],\n",
       " [429, 429.97, 431, 15],\n",
       " [429, 429.25, 431, 16],\n",
       " [429, 429.0, 429, 17]]"
      ]
     },
     "execution_count": 32,
     "metadata": {},
     "output_type": "execute_result"
    }
   ],
   "source": [
    "start_time = time.time()\n",
    "classic_ans = genetic_jaccard(n_vertex, graph, 200, classic, zero_fit, population,\n",
    "                    mutation_prob=0.4, alp=20, bet=20, max_iter=50, hunter_prob=0.25, balans=False, plot=False)\n",
    "classic_time = time.time() - start_time\n",
    "classic_ans"
   ]
  },
  {
   "cell_type": "code",
   "execution_count": 33,
   "id": "7a915b18",
   "metadata": {
    "scrolled": true
   },
   "outputs": [
    {
     "name": "stdout",
     "output_type": "stream",
     "text": [
      "200 min: 1412 avg: 1662.93 max: 1876\n"
     ]
    },
    {
     "name": "stderr",
     "output_type": "stream",
     "text": [
      "100%|███████████████████████████████████████████| 50/50 [01:23<00:00,  1.68s/it]"
     ]
    },
    {
     "name": "stdout",
     "output_type": "stream",
     "text": [
      "50\n",
      "[2, 27, 30, 25, 7, 47, 22, 6, 42, 23, 5, 26, 50, 45, 11, 46, 3, 17, 13, 24, 12, 40, 18, 39, 41, 43, 16, 36, 14, 44, 32, 38, 9, 29, 33, 49, 8, 48, 4, 37, 10, 31, 0, 21, 1, 15, 20, 28, 19, 34, 35]\n",
      "200 min: 428 avg: 429.125 max: 499\n"
     ]
    },
    {
     "name": "stderr",
     "output_type": "stream",
     "text": [
      "\n"
     ]
    },
    {
     "data": {
      "text/plain": [
       "[[478, 570.72, 677, 0],\n",
       " [458, 512.35, 587, 1],\n",
       " [449, 492.3, 555, 2],\n",
       " [449, 478.655, 519, 3],\n",
       " [449, 473.665, 554, 4],\n",
       " [447, 467.585, 546, 5],\n",
       " [446, 462.425, 515, 6],\n",
       " [440, 460.25, 531, 7],\n",
       " [439, 459.76, 545, 8],\n",
       " [437, 457.615, 529, 9],\n",
       " [436, 454.26, 537, 10],\n",
       " [436, 450.51, 521, 11],\n",
       " [432, 448.345, 494, 12],\n",
       " [430, 446.705, 512, 13],\n",
       " [430, 444.13, 500, 14],\n",
       " [430, 442.135, 553, 15],\n",
       " [430, 439.665, 507, 16],\n",
       " [430, 437.07, 466, 17],\n",
       " [430, 436.905, 495, 18],\n",
       " [429, 434.72, 478, 19],\n",
       " [429, 434.35, 470, 20],\n",
       " [429, 433.305, 469, 21],\n",
       " [429, 433.635, 488, 22],\n",
       " [429, 433.445, 501, 23],\n",
       " [429, 432.575, 490, 24],\n",
       " [429, 432.79, 496, 25],\n",
       " [428, 433.455, 542, 26],\n",
       " [428, 432.845, 525, 27],\n",
       " [428, 432.15, 517, 28],\n",
       " [428, 432.005, 492, 29],\n",
       " [428, 432.145, 512, 30],\n",
       " [428, 431.51, 466, 31],\n",
       " [428, 431.57, 533, 32],\n",
       " [428, 431.215, 477, 33],\n",
       " [428, 430.52, 467, 34],\n",
       " [428, 430.83, 542, 35],\n",
       " [428, 430.375, 499, 36],\n",
       " [428, 431.195, 509, 37],\n",
       " [428, 431.115, 536, 38],\n",
       " [428, 430.66, 517, 39],\n",
       " [428, 430.495, 522, 40],\n",
       " [428, 430.27, 472, 41],\n",
       " [428, 430.19, 475, 42],\n",
       " [428, 430.985, 506, 43],\n",
       " [428, 431.55, 501, 44],\n",
       " [428, 430.995, 519, 45],\n",
       " [428, 431.315, 507, 46],\n",
       " [428, 430.345, 536, 47],\n",
       " [428, 429.37, 465, 48],\n",
       " [428, 429.125, 499, 49]]"
      ]
     },
     "execution_count": 33,
     "metadata": {},
     "output_type": "execute_result"
    }
   ],
   "source": [
    "start_time = time.time()\n",
    "clust_ans = genetic_jaccard(n_vertex, graph, 200, dbscan, zero_fit, population,\n",
    "                    mutation_prob=0.4, alp=20, bet=20, max_iter=50, hunter_prob=0.25, balans=False, plot=False)\n",
    "clust_time = time.time() - start_time\n",
    "clust_ans"
   ]
  },
  {
   "cell_type": "markdown",
   "id": "5b327d14",
   "metadata": {},
   "source": [
    "### Охота без балансировки"
   ]
  },
  {
   "cell_type": "code",
   "execution_count": 34,
   "id": "a20fb173",
   "metadata": {
    "scrolled": true
   },
   "outputs": [
    {
     "name": "stdout",
     "output_type": "stream",
     "text": [
      "200 min: 1412 avg: 1662.93 max: 1876\n"
     ]
    },
    {
     "name": "stderr",
     "output_type": "stream",
     "text": [
      "100%|███████████████████████████████████████████| 50/50 [04:53<00:00,  5.87s/it]\n"
     ]
    },
    {
     "name": "stdout",
     "output_type": "stream",
     "text": [
      "50\n",
      "[16, 36, 14, 44, 32, 38, 9, 48, 4, 37, 10, 31, 0, 21, 1, 15, 49, 8, 29, 33, 20, 28, 19, 34, 35, 2, 27, 30, 7, 25, 6, 42, 23, 22, 47, 5, 26, 50, 45, 11, 46, 3, 17, 13, 24, 12, 40, 18, 39, 41, 43]\n",
      "200 min: 427 avg: 429.23 max: 494\n",
      "200 min: 1412 avg: 1662.93 max: 1876\n"
     ]
    },
    {
     "name": "stderr",
     "output_type": "stream",
     "text": [
      "100%|███████████████████████████████████████████| 50/50 [04:40<00:00,  5.61s/it]\n"
     ]
    },
    {
     "name": "stdout",
     "output_type": "stream",
     "text": [
      "50\n",
      "[18, 40, 12, 24, 13, 17, 3, 46, 11, 45, 50, 26, 5, 47, 22, 23, 42, 6, 25, 7, 30, 27, 2, 35, 34, 19, 28, 20, 15, 1, 21, 0, 31, 10, 37, 4, 48, 8, 49, 33, 29, 9, 38, 32, 44, 14, 36, 16, 43, 41, 39]\n",
      "200 min: 427 avg: 427.79 max: 530\n",
      "200 min: 1412 avg: 1662.93 max: 1876\n"
     ]
    },
    {
     "name": "stderr",
     "output_type": "stream",
     "text": [
      "100%|███████████████████████████████████████████| 50/50 [04:00<00:00,  4.81s/it]\n"
     ]
    },
    {
     "name": "stdout",
     "output_type": "stream",
     "text": [
      "50\n",
      "[18, 39, 40, 12, 24, 13, 17, 3, 46, 11, 45, 50, 26, 5, 47, 22, 23, 42, 6, 25, 7, 30, 27, 2, 35, 34, 19, 28, 20, 15, 1, 21, 0, 31, 10, 37, 4, 48, 8, 49, 33, 29, 9, 38, 32, 44, 14, 36, 16, 43, 41]\n",
      "200 min: 427 avg: 428.255 max: 524\n",
      "200 min: 1412 avg: 1662.93 max: 1876\n"
     ]
    },
    {
     "name": "stderr",
     "output_type": "stream",
     "text": [
      "100%|███████████████████████████████████████████| 50/50 [04:58<00:00,  5.97s/it]\n"
     ]
    },
    {
     "name": "stdout",
     "output_type": "stream",
     "text": [
      "50\n",
      "[18, 39, 40, 12, 24, 13, 17, 3, 46, 11, 45, 50, 26, 5, 47, 22, 23, 42, 6, 25, 7, 30, 27, 2, 35, 34, 19, 28, 20, 15, 1, 21, 0, 31, 10, 37, 4, 48, 8, 49, 33, 29, 9, 38, 32, 44, 14, 36, 16, 43, 41]\n",
      "200 min: 427 avg: 427.33 max: 478\n",
      "200 min: 1412 avg: 1662.93 max: 1876\n"
     ]
    },
    {
     "name": "stderr",
     "output_type": "stream",
     "text": [
      "100%|███████████████████████████████████████████| 50/50 [04:27<00:00,  5.36s/it]\n"
     ]
    },
    {
     "name": "stdout",
     "output_type": "stream",
     "text": [
      "50\n",
      "[16, 36, 43, 14, 44, 32, 38, 9, 29, 33, 49, 15, 1, 21, 0, 31, 10, 37, 4, 48, 8, 20, 28, 19, 34, 35, 2, 27, 30, 7, 25, 6, 42, 23, 22, 47, 5, 26, 50, 45, 11, 46, 17, 13, 24, 12, 40, 18, 39, 41, 3]\n",
      "200 min: 427 avg: 428.325 max: 461\n",
      "200 min: 1412 avg: 1662.93 max: 1876\n"
     ]
    },
    {
     "name": "stderr",
     "output_type": "stream",
     "text": [
      "100%|███████████████████████████████████████████| 50/50 [04:15<00:00,  5.11s/it]"
     ]
    },
    {
     "name": "stdout",
     "output_type": "stream",
     "text": [
      "50\n",
      "[16, 36, 14, 44, 32, 38, 9, 29, 33, 49, 8, 48, 4, 37, 10, 31, 0, 21, 1, 15, 20, 28, 19, 34, 35, 2, 27, 30, 7, 25, 6, 42, 23, 22, 47, 5, 26, 50, 45, 11, 46, 3, 17, 13, 24, 12, 40, 18, 39, 41, 43]\n",
      "200 min: 427 avg: 429.15 max: 500\n"
     ]
    },
    {
     "name": "stderr",
     "output_type": "stream",
     "text": [
      "\n"
     ]
    }
   ],
   "source": [
    "jac_hunt_time = []\n",
    "jac_hunt_ans = []\n",
    "for cnt in [5, 10, 20, 40, 50, 60]:\n",
    "    start_time = time.time()\n",
    "    jac_hunt_ans.append(genetic_jaccard(n_vertex, graph, 200, dbscan, jaccard_distance, population,\n",
    "                        mutation_prob=0.4, alp=cnt, bet=cnt, max_iter=50, hunter_prob=0.25, balans=False, plot=False))\n",
    "    \n",
    "    jac_hunt_time.append(time.time() - start_time)"
   ]
  },
  {
   "cell_type": "code",
   "execution_count": 39,
   "id": "735bc94a",
   "metadata": {
    "scrolled": true
   },
   "outputs": [
    {
     "name": "stdout",
     "output_type": "stream",
     "text": [
      "200 min: 1412 avg: 1662.93 max: 1876\n"
     ]
    },
    {
     "name": "stderr",
     "output_type": "stream",
     "text": [
      "100%|███████████████████████████████████████████| 50/50 [08:17<00:00,  9.95s/it]\n"
     ]
    },
    {
     "name": "stdout",
     "output_type": "stream",
     "text": [
      "50\n",
      "[16, 36, 14, 44, 32, 38, 9, 29, 33, 49, 8, 48, 4, 37, 10, 31, 0, 21, 1, 15, 20, 28, 19, 34, 35, 2, 27, 30, 7, 25, 6, 42, 23, 22, 47, 5, 26, 50, 45, 11, 46, 3, 17, 13, 24, 12, 40, 18, 39, 41, 43]\n",
      "200 min: 427 avg: 428.11 max: 467\n",
      "\n",
      "200 min: 1412 avg: 1662.93 max: 1876\n"
     ]
    },
    {
     "name": "stderr",
     "output_type": "stream",
     "text": [
      "100%|███████████████████████████████████████████| 50/50 [09:19<00:00, 11.19s/it]\n"
     ]
    },
    {
     "name": "stdout",
     "output_type": "stream",
     "text": [
      "50\n",
      "[45, 50, 26, 5, 47, 22, 23, 42, 6, 25, 7, 30, 27, 2, 35, 34, 19, 28, 20, 15, 1, 21, 0, 31, 10, 37, 4, 48, 8, 49, 33, 29, 9, 38, 32, 44, 14, 36, 16, 43, 41, 18, 39, 40, 12, 24, 13, 17, 3, 46, 11]\n",
      "200 min: 427 avg: 428.305 max: 581\n",
      "\n",
      "200 min: 1412 avg: 1662.93 max: 1876\n"
     ]
    },
    {
     "name": "stderr",
     "output_type": "stream",
     "text": [
      "100%|███████████████████████████████████████████| 50/50 [08:44<00:00, 10.49s/it]\n"
     ]
    },
    {
     "name": "stdout",
     "output_type": "stream",
     "text": [
      "50\n",
      "[12, 40, 18, 39, 41, 43, 16, 36, 14, 44, 32, 38, 9, 29, 33, 49, 8, 48, 4, 37, 10, 31, 0, 21, 1, 15, 20, 28, 19, 34, 35, 2, 27, 30, 7, 25, 6, 42, 23, 22, 47, 5, 26, 50, 45, 11, 46, 3, 17, 13, 24]\n",
      "200 min: 427 avg: 430.01 max: 525\n",
      "\n",
      "200 min: 1412 avg: 1662.93 max: 1876\n"
     ]
    },
    {
     "name": "stderr",
     "output_type": "stream",
     "text": [
      "100%|███████████████████████████████████████████| 50/50 [06:12<00:00,  7.45s/it]\n"
     ]
    },
    {
     "name": "stdout",
     "output_type": "stream",
     "text": [
      "50\n",
      "[26, 50, 45, 11, 46, 3, 17, 13, 24, 12, 40, 39, 18, 41, 43, 16, 36, 14, 44, 32, 38, 9, 29, 33, 49, 8, 48, 4, 37, 10, 31, 0, 21, 1, 15, 20, 28, 19, 34, 35, 2, 27, 30, 7, 25, 6, 42, 23, 22, 47, 5]\n",
      "200 min: 427 avg: 433.09 max: 504\n",
      "\n",
      "200 min: 1412 avg: 1662.93 max: 1876\n"
     ]
    },
    {
     "name": "stderr",
     "output_type": "stream",
     "text": [
      "100%|███████████████████████████████████████████| 50/50 [11:27<00:00, 13.75s/it]"
     ]
    },
    {
     "name": "stdout",
     "output_type": "stream",
     "text": [
      "50\n",
      "[40, 12, 24, 13, 17, 3, 46, 11, 45, 50, 26, 5, 47, 22, 23, 42, 6, 25, 7, 30, 27, 2, 35, 34, 19, 28, 20, 15, 1, 21, 0, 31, 10, 37, 4, 48, 8, 49, 33, 29, 9, 38, 32, 44, 14, 36, 16, 43, 41, 18, 39]\n",
      "200 min: 427 avg: 427.58 max: 487\n",
      "\n"
     ]
    },
    {
     "name": "stderr",
     "output_type": "stream",
     "text": [
      "\n"
     ]
    }
   ],
   "source": [
    "cen_hunt_time = []\n",
    "cen_hunt_ans = []\n",
    "for cnt in [5, 10, 20, 40, 60]:\n",
    "    start_time = time.time()\n",
    "    cen_hunt_ans.append(genetic_centre(n_vertex, graph, 200, dbscan, jaccard_distance, population,\n",
    "                        mutation_prob=0.4, alp=cnt, bet=cnt, max_iter=50, hunter_prob=0.25, balans=False, plot=False))\n",
    "    \n",
    "    cen_hunt_time.append(time.time() - start_time)\n",
    "    print()"
   ]
  },
  {
   "cell_type": "code",
   "execution_count": 41,
   "id": "d63bb0bc",
   "metadata": {
    "scrolled": true
   },
   "outputs": [
    {
     "name": "stdout",
     "output_type": "stream",
     "text": [
      "200 min: 1412 avg: 1662.93 max: 1876\n"
     ]
    },
    {
     "name": "stderr",
     "output_type": "stream",
     "text": [
      "100%|███████████████████████████████████████████| 50/50 [01:29<00:00,  1.79s/it]\n"
     ]
    },
    {
     "name": "stdout",
     "output_type": "stream",
     "text": [
      "50\n",
      "[16, 36, 14, 44, 32, 38, 9, 29, 33, 49, 8, 48, 4, 37, 10, 31, 0, 21, 1, 15, 20, 28, 19, 34, 35, 2, 27, 30, 7, 25, 6, 42, 23, 22, 47, 5, 26, 50, 45, 11, 46, 3, 17, 13, 24, 12, 40, 18, 39, 41, 43]\n",
      "200 min: 427 avg: 427.685 max: 515\n",
      "\n",
      "200 min: 1412 avg: 1662.93 max: 1876\n"
     ]
    },
    {
     "name": "stderr",
     "output_type": "stream",
     "text": [
      "100%|███████████████████████████████████████████| 50/50 [01:30<00:00,  1.81s/it]\n"
     ]
    },
    {
     "name": "stdout",
     "output_type": "stream",
     "text": [
      "50\n",
      "[29, 33, 49, 8, 48, 4, 37, 10, 31, 0, 21, 1, 15, 20, 28, 19, 34, 35, 2, 27, 30, 7, 25, 6, 42, 23, 22, 47, 5, 26, 50, 45, 11, 46, 3, 17, 13, 24, 12, 40, 39, 18, 41, 43, 16, 36, 14, 44, 32, 38, 9]\n",
      "200 min: 427 avg: 427.43 max: 475\n",
      "\n",
      "200 min: 1412 avg: 1662.93 max: 1876\n"
     ]
    },
    {
     "name": "stderr",
     "output_type": "stream",
     "text": [
      "100%|███████████████████████████████████████████| 50/50 [01:28<00:00,  1.77s/it]\n"
     ]
    },
    {
     "name": "stdout",
     "output_type": "stream",
     "text": [
      "50\n",
      "[47, 22, 23, 42, 6, 25, 7, 30, 27, 2, 35, 34, 19, 28, 20, 15, 1, 21, 0, 31, 10, 37, 4, 48, 8, 49, 33, 29, 9, 38, 32, 44, 14, 43, 36, 16, 41, 39, 18, 40, 12, 24, 13, 17, 3, 46, 11, 45, 50, 26, 5]\n",
      "200 min: 427 avg: 428.075 max: 499\n",
      "\n",
      "200 min: 1412 avg: 1662.93 max: 1876\n"
     ]
    },
    {
     "name": "stderr",
     "output_type": "stream",
     "text": [
      "100%|███████████████████████████████████████████| 50/50 [01:28<00:00,  1.77s/it]\n"
     ]
    },
    {
     "name": "stdout",
     "output_type": "stream",
     "text": [
      "50\n",
      "[48, 8, 49, 33, 29, 38, 9, 32, 44, 14, 36, 16, 43, 41, 18, 39, 40, 12, 24, 13, 17, 3, 46, 11, 45, 50, 26, 5, 47, 22, 23, 42, 6, 25, 7, 30, 27, 2, 35, 34, 19, 28, 20, 15, 1, 21, 0, 31, 10, 37, 4]\n",
      "200 min: 427 avg: 427.385 max: 491\n",
      "\n",
      "200 min: 1412 avg: 1662.93 max: 1876\n"
     ]
    },
    {
     "name": "stderr",
     "output_type": "stream",
     "text": [
      "100%|███████████████████████████████████████████| 50/50 [01:28<00:00,  1.76s/it]\n"
     ]
    },
    {
     "name": "stdout",
     "output_type": "stream",
     "text": [
      "50\n",
      "[15, 1, 21, 0, 31, 10, 37, 4, 48, 8, 49, 33, 29, 38, 9, 32, 44, 14, 36, 16, 43, 41, 39, 18, 40, 12, 24, 13, 17, 3, 46, 11, 45, 50, 26, 5, 23, 42, 6, 22, 47, 7, 25, 30, 27, 2, 35, 34, 19, 28, 20]\n",
      "200 min: 428 avg: 428.51 max: 461\n",
      "\n",
      "200 min: 1412 avg: 1662.93 max: 1876\n"
     ]
    },
    {
     "name": "stderr",
     "output_type": "stream",
     "text": [
      "100%|███████████████████████████████████████████| 50/50 [01:28<00:00,  1.77s/it]\n"
     ]
    },
    {
     "name": "stdout",
     "output_type": "stream",
     "text": [
      "50\n",
      "[44, 32, 38, 9, 29, 33, 15, 1, 21, 0, 31, 10, 37, 4, 48, 8, 49, 20, 28, 19, 34, 35, 2, 27, 30, 7, 25, 6, 42, 23, 22, 47, 5, 26, 50, 45, 11, 46, 3, 17, 13, 24, 12, 40, 39, 18, 41, 16, 36, 43, 14]\n",
      "200 min: 427 avg: 430.795 max: 529\n",
      "\n",
      "200 min: 1412 avg: 1662.93 max: 1876\n"
     ]
    },
    {
     "name": "stderr",
     "output_type": "stream",
     "text": [
      "100%|███████████████████████████████████████████| 50/50 [01:28<00:00,  1.78s/it]\n"
     ]
    },
    {
     "name": "stdout",
     "output_type": "stream",
     "text": [
      "50\n",
      "[16, 36, 14, 44, 32, 38, 9, 29, 33, 49, 8, 48, 4, 37, 10, 31, 0, 21, 1, 15, 20, 28, 19, 34, 35, 2, 27, 30, 7, 25, 6, 42, 23, 22, 47, 5, 26, 50, 45, 11, 46, 3, 17, 13, 24, 12, 40, 39, 18, 41, 43]\n",
      "200 min: 427 avg: 427.305 max: 437\n",
      "\n",
      "200 min: 1412 avg: 1662.93 max: 1876\n"
     ]
    },
    {
     "name": "stderr",
     "output_type": "stream",
     "text": [
      "100%|███████████████████████████████████████████| 50/50 [01:29<00:00,  1.78s/it]"
     ]
    },
    {
     "name": "stdout",
     "output_type": "stream",
     "text": [
      "50\n",
      "[1, 15, 20, 28, 19, 34, 35, 2, 27, 30, 7, 25, 6, 42, 23, 22, 47, 5, 26, 50, 45, 11, 46, 3, 17, 13, 24, 12, 40, 18, 39, 41, 16, 36, 43, 14, 44, 32, 38, 9, 29, 33, 49, 8, 48, 4, 37, 10, 31, 0, 21]\n",
      "200 min: 428 avg: 429.78 max: 498\n",
      "\n"
     ]
    },
    {
     "name": "stderr",
     "output_type": "stream",
     "text": [
      "\n"
     ]
    }
   ],
   "source": [
    "mtr_hunt_time = []\n",
    "mtr_hunt_ans = []\n",
    "for cnt in [5, 10, 20, 30, 40, 60, 80, 100]:\n",
    "    start_time = time.time()\n",
    "    mtr_hunt_ans.append(genetic_mtr(n_vertex, graph, 200, dbscan, jaccard_distance, population,\n",
    "                        mutation_prob=0.4, alp=cnt, bet=cnt, max_iter=50, hunter_prob=0.25, balans=False, plot=False))\n",
    "    \n",
    "    mtr_hunt_time.append(time.time() - start_time)\n",
    "    print()"
   ]
  },
  {
   "cell_type": "markdown",
   "id": "dcb9f425",
   "metadata": {},
   "source": [
    "### Охота с балансировкой"
   ]
  },
  {
   "cell_type": "code",
   "execution_count": 42,
   "id": "1d670746",
   "metadata": {
    "scrolled": true
   },
   "outputs": [
    {
     "name": "stdout",
     "output_type": "stream",
     "text": [
      "200 min: 1412 avg: 1662.93 max: 1876\n"
     ]
    },
    {
     "name": "stderr",
     "output_type": "stream",
     "text": [
      "100%|███████████████████████████████████████████| 50/50 [01:29<00:00,  1.79s/it]\n"
     ]
    },
    {
     "name": "stdout",
     "output_type": "stream",
     "text": [
      "50\n",
      "[5, 47, 22, 23, 42, 6, 25, 7, 30, 27, 2, 35, 34, 19, 28, 20, 15, 1, 21, 0, 31, 10, 37, 4, 48, 8, 49, 33, 29, 9, 38, 32, 44, 14, 36, 16, 43, 41, 18, 39, 40, 12, 24, 13, 17, 3, 46, 11, 45, 50, 26]\n",
      "200 min: 427 avg: 427.375 max: 471\n",
      "\n",
      "200 min: 1412 avg: 1662.93 max: 1876\n"
     ]
    },
    {
     "name": "stderr",
     "output_type": "stream",
     "text": [
      "100%|███████████████████████████████████████████| 50/50 [01:31<00:00,  1.83s/it]\n"
     ]
    },
    {
     "name": "stdout",
     "output_type": "stream",
     "text": [
      "50\n",
      "[34, 35, 2, 27, 30, 7, 25, 6, 42, 23, 22, 47, 5, 26, 50, 45, 11, 46, 3, 17, 13, 24, 12, 40, 18, 39, 41, 16, 36, 43, 14, 44, 32, 38, 9, 29, 33, 49, 8, 48, 4, 37, 10, 31, 0, 21, 1, 15, 20, 28, 19]\n",
      "200 min: 428 avg: 429.515 max: 483\n",
      "\n",
      "200 min: 1412 avg: 1662.93 max: 1876\n"
     ]
    },
    {
     "name": "stderr",
     "output_type": "stream",
     "text": [
      "100%|███████████████████████████████████████████| 50/50 [01:30<00:00,  1.80s/it]\n"
     ]
    },
    {
     "name": "stdout",
     "output_type": "stream",
     "text": [
      "50\n",
      "[40, 12, 24, 13, 17, 3, 46, 11, 50, 45, 26, 5, 47, 22, 23, 42, 6, 25, 7, 30, 27, 2, 35, 34, 19, 28, 20, 15, 1, 21, 0, 31, 10, 37, 4, 48, 8, 49, 33, 29, 9, 38, 32, 44, 14, 36, 16, 43, 41, 18, 39]\n",
      "200 min: 427 avg: 428.195 max: 489\n",
      "\n",
      "200 min: 1412 avg: 1662.93 max: 1876\n"
     ]
    },
    {
     "name": "stderr",
     "output_type": "stream",
     "text": [
      "100%|███████████████████████████████████████████| 50/50 [01:30<00:00,  1.81s/it]\n"
     ]
    },
    {
     "name": "stdout",
     "output_type": "stream",
     "text": [
      "50\n",
      "[6, 42, 23, 22, 5, 47, 26, 50, 45, 11, 46, 17, 13, 24, 12, 40, 39, 18, 41, 3, 16, 36, 43, 14, 44, 32, 9, 38, 29, 33, 49, 8, 48, 4, 37, 10, 31, 0, 21, 1, 15, 20, 28, 19, 34, 35, 2, 27, 30, 7, 25]\n",
      "200 min: 430 avg: 433.875 max: 515\n",
      "\n",
      "200 min: 1412 avg: 1662.93 max: 1876\n"
     ]
    },
    {
     "name": "stderr",
     "output_type": "stream",
     "text": [
      "100%|███████████████████████████████████████████| 50/50 [01:30<00:00,  1.81s/it]"
     ]
    },
    {
     "name": "stdout",
     "output_type": "stream",
     "text": [
      "50\n",
      "[14, 43, 36, 16, 3, 41, 39, 18, 40, 12, 24, 13, 17, 46, 11, 45, 50, 26, 5, 47, 22, 23, 42, 6, 25, 7, 30, 27, 2, 35, 34, 19, 28, 20, 15, 1, 21, 0, 31, 10, 37, 4, 48, 8, 49, 33, 29, 9, 38, 32, 44]\n",
      "200 min: 430 avg: 432.605 max: 506\n",
      "\n"
     ]
    },
    {
     "name": "stderr",
     "output_type": "stream",
     "text": [
      "\n"
     ]
    }
   ],
   "source": [
    "mtr_hunt_bal_time = []\n",
    "mtr_hunt_bal_ans = []\n",
    "for cnt in [0.05, 0.1, 0.15, 0.25, 0.4]:\n",
    "    start_time = time.time()\n",
    "    mtr_hunt_bal_ans.append(genetic_mtr(n_vertex, graph, 200, dbscan, jaccard_distance, population,\n",
    "                        mutation_prob=0.4, alp=cnt, bet=cnt, max_iter=50, hunter_prob=0.25, balans=True, plot=False))\n",
    "    \n",
    "    mtr_hunt_bal_time.append(time.time() - start_time)\n",
    "    print()"
   ]
  },
  {
   "cell_type": "code",
   "execution_count": 43,
   "id": "6fba58c3",
   "metadata": {
    "scrolled": true
   },
   "outputs": [
    {
     "name": "stdout",
     "output_type": "stream",
     "text": [
      "200 min: 1412 avg: 1662.93 max: 1876\n"
     ]
    },
    {
     "name": "stderr",
     "output_type": "stream",
     "text": [
      "100%|███████████████████████████████████████████| 50/50 [04:16<00:00,  5.14s/it]\n"
     ]
    },
    {
     "name": "stdout",
     "output_type": "stream",
     "text": [
      "50\n",
      "[8, 48, 4, 37, 10, 31, 0, 21, 1, 15, 20, 28, 19, 34, 35, 2, 27, 30, 7, 25, 6, 42, 23, 22, 47, 5, 26, 50, 45, 11, 46, 3, 17, 13, 24, 12, 40, 39, 18, 41, 43, 16, 36, 14, 44, 32, 38, 9, 29, 33, 49]\n",
      "200 min: 427 avg: 427.68 max: 515\n",
      "\n",
      "200 min: 1412 avg: 1662.93 max: 1876\n"
     ]
    },
    {
     "name": "stderr",
     "output_type": "stream",
     "text": [
      "100%|███████████████████████████████████████████| 50/50 [04:58<00:00,  5.97s/it]\n"
     ]
    },
    {
     "name": "stdout",
     "output_type": "stream",
     "text": [
      "50\n",
      "[38, 32, 44, 14, 36, 16, 43, 41, 18, 39, 40, 12, 24, 13, 17, 3, 46, 11, 45, 50, 26, 5, 47, 22, 23, 42, 6, 25, 7, 30, 27, 2, 35, 34, 19, 28, 20, 15, 1, 21, 0, 31, 10, 37, 4, 48, 8, 49, 33, 29, 9]\n",
      "200 min: 427 avg: 427.505 max: 512\n",
      "\n",
      "200 min: 1412 avg: 1662.93 max: 1876\n"
     ]
    },
    {
     "name": "stderr",
     "output_type": "stream",
     "text": [
      "100%|███████████████████████████████████████████| 50/50 [04:57<00:00,  5.95s/it]\n"
     ]
    },
    {
     "name": "stdout",
     "output_type": "stream",
     "text": [
      "50\n",
      "[16, 36, 14, 44, 32, 38, 9, 29, 33, 49, 8, 48, 4, 37, 10, 31, 0, 21, 1, 15, 20, 28, 19, 34, 35, 2, 27, 30, 7, 25, 6, 42, 23, 22, 47, 5, 26, 50, 45, 11, 46, 3, 17, 13, 24, 12, 40, 39, 18, 41, 43]\n",
      "200 min: 427 avg: 428.49 max: 434\n",
      "\n",
      "200 min: 1412 avg: 1662.93 max: 1876\n"
     ]
    },
    {
     "name": "stderr",
     "output_type": "stream",
     "text": [
      "100%|███████████████████████████████████████████| 50/50 [04:00<00:00,  4.81s/it]\n"
     ]
    },
    {
     "name": "stdout",
     "output_type": "stream",
     "text": [
      "50\n",
      "[18, 39, 40, 12, 24, 13, 5, 26, 50, 45, 11, 46, 3, 17, 47, 22, 23, 42, 6, 25, 7, 30, 27, 2, 35, 34, 19, 28, 20, 15, 1, 21, 0, 31, 10, 37, 4, 48, 8, 49, 33, 29, 9, 38, 32, 44, 14, 36, 16, 43, 41]\n",
      "200 min: 427 avg: 428.62 max: 449\n",
      "\n",
      "200 min: 1412 avg: 1662.93 max: 1876\n"
     ]
    },
    {
     "name": "stderr",
     "output_type": "stream",
     "text": [
      "100%|███████████████████████████████████████████| 50/50 [05:10<00:00,  6.21s/it]"
     ]
    },
    {
     "name": "stdout",
     "output_type": "stream",
     "text": [
      "50\n",
      "[18, 39, 40, 12, 24, 13, 17, 46, 11, 0, 21, 1, 15, 20, 28, 19, 34, 35, 2, 27, 30, 7, 25, 6, 42, 23, 22, 47, 5, 26, 50, 45, 31, 10, 37, 4, 48, 8, 49, 33, 29, 9, 38, 32, 44, 14, 43, 36, 16, 3, 41]\n",
      "200 min: 429 avg: 440.715 max: 498\n",
      "\n"
     ]
    },
    {
     "name": "stderr",
     "output_type": "stream",
     "text": [
      "\n"
     ]
    }
   ],
   "source": [
    "jac_hunt_bal_time = []\n",
    "jac_hunt_bal_ans = []\n",
    "for cnt in [0.05, 0.1, 0.15, 0.25, 0.4]:\n",
    "    start_time = time.time()\n",
    "    jac_hunt_bal_ans.append(genetic_jaccard(n_vertex, graph, 200, dbscan, jaccard_distance, population,\n",
    "                        mutation_prob=0.4, alp=cnt, bet=cnt, max_iter=50, hunter_prob=0.25, balans=True, plot=False))\n",
    "    \n",
    "    jac_hunt_bal_time.append(time.time() - start_time)\n",
    "    print()"
   ]
  },
  {
   "cell_type": "code",
   "execution_count": 55,
   "id": "8572d83c",
   "metadata": {
    "scrolled": true
   },
   "outputs": [
    {
     "name": "stdout",
     "output_type": "stream",
     "text": [
      "200 min: 1412 avg: 1662.93 max: 1876\n"
     ]
    },
    {
     "name": "stderr",
     "output_type": "stream",
     "text": [
      "100%|███████████████████████████████████████████| 50/50 [10:41<00:00, 12.83s/it]\n"
     ]
    },
    {
     "name": "stdout",
     "output_type": "stream",
     "text": [
      "50\n",
      "[3, 46, 11, 45, 50, 26, 5, 47, 22, 23, 42, 6, 25, 7, 30, 27, 2, 35, 34, 19, 28, 20, 15, 1, 21, 0, 31, 10, 37, 4, 48, 8, 49, 33, 29, 9, 38, 32, 44, 14, 36, 16, 43, 41, 18, 39, 40, 12, 24, 13, 17]\n",
      "200 min: 427 avg: 427.455 max: 464\n",
      "\n",
      "200 min: 1412 avg: 1662.93 max: 1876\n"
     ]
    },
    {
     "name": "stderr",
     "output_type": "stream",
     "text": [
      "100%|███████████████████████████████████████████| 50/50 [12:51<00:00, 15.42s/it]\n"
     ]
    },
    {
     "name": "stdout",
     "output_type": "stream",
     "text": [
      "50\n",
      "[2, 27, 30, 7, 25, 6, 42, 23, 22, 47, 5, 26, 50, 45, 11, 46, 3, 17, 13, 24, 12, 40, 39, 18, 41, 43, 16, 36, 14, 44, 32, 38, 9, 29, 33, 49, 8, 48, 4, 37, 10, 31, 0, 21, 1, 15, 20, 28, 19, 34, 35]\n",
      "200 min: 427 avg: 428.265 max: 504\n",
      "\n",
      "200 min: 1412 avg: 1662.93 max: 1876\n"
     ]
    },
    {
     "name": "stderr",
     "output_type": "stream",
     "text": [
      "100%|███████████████████████████████████████████| 50/50 [12:16<00:00, 14.73s/it]"
     ]
    },
    {
     "name": "stdout",
     "output_type": "stream",
     "text": [
      "50\n",
      "[8, 49, 15, 1, 21, 0, 31, 10, 37, 4, 48, 9, 38, 32, 44, 14, 36, 16, 43, 41, 39, 18, 40, 12, 24, 13, 17, 3, 46, 11, 45, 50, 26, 5, 47, 22, 23, 42, 6, 25, 7, 30, 27, 2, 35, 34, 19, 28, 20, 33, 29]\n",
      "200 min: 427 avg: 427.6 max: 507\n",
      "\n"
     ]
    },
    {
     "name": "stderr",
     "output_type": "stream",
     "text": [
      "\n"
     ]
    }
   ],
   "source": [
    "cen_hunt_bal_time = []\n",
    "cen_hunt_bal_ans = []\n",
    "for cnt in [0.1, 0.15, 0.25]:\n",
    "    start_time = time.time()\n",
    "    cen_hunt_bal_ans.append(genetic_centre(n_vertex, graph, 200, dbscan, jaccard_distance, population,\n",
    "                        mutation_prob=0.4, alp=cnt, bet=cnt, max_iter=50, hunter_prob=0.25, balans=False, plot=False))\n",
    "    \n",
    "    cen_hunt_bal_time.append(time.time() - start_time)\n",
    "    print()"
   ]
  },
  {
   "attachments": {},
   "cell_type": "markdown",
   "id": "0fd71683",
   "metadata": {},
   "source": [
    "### Отталкивание без балансировки"
   ]
  },
  {
   "cell_type": "code",
   "execution_count": 45,
   "id": "6d6061b9",
   "metadata": {
    "scrolled": true
   },
   "outputs": [
    {
     "name": "stdout",
     "output_type": "stream",
     "text": [
      "200 min: 1412 avg: 1662.93 max: 1876\n"
     ]
    },
    {
     "name": "stderr",
     "output_type": "stream",
     "text": [
      "100%|███████████████████████████████████████████| 50/50 [01:34<00:00,  1.89s/it]\n"
     ]
    },
    {
     "name": "stdout",
     "output_type": "stream",
     "text": [
      "50\n",
      "[40, 12, 24, 13, 17, 3, 46, 11, 45, 50, 26, 5, 47, 22, 23, 42, 6, 25, 7, 30, 27, 2, 35, 34, 19, 28, 20, 15, 1, 21, 0, 31, 10, 37, 4, 48, 8, 49, 33, 29, 9, 38, 32, 44, 14, 36, 16, 43, 41, 18, 39]\n",
      "200 min: 427 avg: 427.99 max: 509\n",
      "\n",
      "200 min: 1412 avg: 1662.93 max: 1876\n"
     ]
    },
    {
     "name": "stderr",
     "output_type": "stream",
     "text": [
      "100%|███████████████████████████████████████████| 50/50 [01:33<00:00,  1.88s/it]\n"
     ]
    },
    {
     "name": "stdout",
     "output_type": "stream",
     "text": [
      "50\n",
      "[11, 46, 3, 17, 13, 24, 12, 40, 18, 39, 41, 43, 16, 36, 14, 44, 32, 38, 9, 29, 33, 49, 8, 48, 4, 37, 10, 31, 0, 21, 1, 15, 20, 28, 19, 34, 35, 2, 27, 30, 7, 25, 6, 42, 23, 22, 47, 5, 26, 50, 45]\n",
      "200 min: 427 avg: 428.665 max: 520\n",
      "\n",
      "200 min: 1412 avg: 1662.93 max: 1876\n"
     ]
    },
    {
     "name": "stderr",
     "output_type": "stream",
     "text": [
      "100%|███████████████████████████████████████████| 50/50 [01:32<00:00,  1.84s/it]\n"
     ]
    },
    {
     "name": "stdout",
     "output_type": "stream",
     "text": [
      "50\n",
      "[16, 36, 14, 44, 32, 38, 9, 29, 33, 49, 8, 48, 4, 37, 10, 31, 0, 21, 1, 15, 20, 28, 19, 34, 35, 2, 27, 30, 7, 25, 6, 42, 23, 22, 47, 5, 26, 50, 45, 11, 46, 3, 17, 13, 24, 12, 40, 39, 18, 41, 43]\n",
      "200 min: 427 avg: 427.135 max: 430\n",
      "\n",
      "200 min: 1412 avg: 1662.93 max: 1876\n"
     ]
    },
    {
     "name": "stderr",
     "output_type": "stream",
     "text": [
      "100%|███████████████████████████████████████████| 50/50 [01:34<00:00,  1.88s/it]\n"
     ]
    },
    {
     "name": "stdout",
     "output_type": "stream",
     "text": [
      "50\n",
      "[24, 13, 17, 3, 46, 11, 45, 50, 26, 5, 47, 22, 23, 42, 6, 25, 7, 30, 27, 2, 35, 34, 19, 28, 20, 15, 1, 21, 0, 31, 10, 37, 4, 48, 8, 49, 33, 29, 9, 38, 32, 44, 14, 36, 16, 43, 41, 18, 39, 40, 12]\n",
      "200 min: 427 avg: 428.255 max: 493\n",
      "\n",
      "200 min: 1412 avg: 1662.93 max: 1876\n"
     ]
    },
    {
     "name": "stderr",
     "output_type": "stream",
     "text": [
      "100%|███████████████████████████████████████████| 50/50 [01:32<00:00,  1.86s/it]\n"
     ]
    },
    {
     "name": "stdout",
     "output_type": "stream",
     "text": [
      "50\n",
      "[16, 36, 14, 44, 32, 38, 9, 29, 33, 49, 8, 48, 4, 37, 10, 31, 0, 21, 1, 15, 20, 28, 19, 34, 35, 2, 27, 30, 7, 25, 6, 42, 23, 22, 47, 5, 26, 50, 45, 11, 46, 3, 17, 13, 24, 12, 40, 18, 39, 41, 43]\n",
      "200 min: 427 avg: 427.25 max: 473\n",
      "\n",
      "200 min: 1412 avg: 1662.93 max: 1876\n"
     ]
    },
    {
     "name": "stderr",
     "output_type": "stream",
     "text": [
      "100%|███████████████████████████████████████████| 50/50 [01:33<00:00,  1.86s/it]\n"
     ]
    },
    {
     "name": "stdout",
     "output_type": "stream",
     "text": [
      "50\n",
      "[43, 41, 18, 39, 40, 12, 24, 13, 17, 3, 46, 11, 45, 50, 26, 5, 47, 22, 23, 42, 6, 25, 7, 30, 27, 2, 35, 34, 19, 28, 20, 33, 49, 15, 1, 21, 0, 31, 10, 37, 4, 48, 8, 29, 9, 38, 32, 44, 14, 36, 16]\n",
      "200 min: 427 avg: 427.615 max: 474\n",
      "\n",
      "200 min: 1412 avg: 1662.93 max: 1876\n"
     ]
    },
    {
     "name": "stderr",
     "output_type": "stream",
     "text": [
      "100%|███████████████████████████████████████████| 50/50 [01:34<00:00,  1.89s/it]\n"
     ]
    },
    {
     "name": "stdout",
     "output_type": "stream",
     "text": [
      "50\n",
      "[33, 29, 8, 49, 15, 1, 21, 0, 31, 10, 37, 4, 48, 9, 38, 32, 44, 14, 36, 16, 43, 41, 18, 39, 40, 12, 24, 13, 17, 3, 46, 11, 45, 50, 26, 5, 47, 22, 23, 42, 6, 25, 7, 30, 27, 2, 35, 34, 19, 28, 20]\n",
      "200 min: 427 avg: 429.455 max: 512\n",
      "\n",
      "200 min: 1412 avg: 1662.93 max: 1876\n"
     ]
    },
    {
     "name": "stderr",
     "output_type": "stream",
     "text": [
      "100%|███████████████████████████████████████████| 50/50 [01:33<00:00,  1.86s/it]"
     ]
    },
    {
     "name": "stdout",
     "output_type": "stream",
     "text": [
      "50\n",
      "[35, 34, 19, 28, 20, 33, 29, 8, 49, 15, 1, 21, 0, 31, 10, 37, 4, 48, 9, 38, 32, 44, 14, 36, 16, 43, 41, 18, 39, 40, 12, 24, 13, 17, 3, 46, 11, 45, 50, 26, 5, 47, 22, 23, 42, 6, 25, 7, 30, 27, 2]\n",
      "200 min: 427 avg: 428.045 max: 523\n",
      "\n"
     ]
    },
    {
     "name": "stderr",
     "output_type": "stream",
     "text": [
      "\n"
     ]
    }
   ],
   "source": [
    "mtr_tolk_time = []\n",
    "mtr_tolk_ans = []\n",
    "for cnt in [5, 10, 20, 30, 40, 60, 80, 100]:\n",
    "    start_time = time.time()\n",
    "    mtr_tolk_ans.append(genetic_mtr(n_vertex, graph, 200, dbscan, jaccard_distance, population,\n",
    "                        mutation_prob=0.4, alp=cnt*(-1), bet=cnt, max_iter=50, hunter_prob=0.25, balans=False, plot=False))\n",
    "    \n",
    "    mtr_tolk_time.append(time.time() - start_time)\n",
    "    print()"
   ]
  },
  {
   "cell_type": "code",
   "execution_count": 46,
   "id": "f257969c",
   "metadata": {
    "scrolled": true
   },
   "outputs": [
    {
     "name": "stdout",
     "output_type": "stream",
     "text": [
      "200 min: 1412 avg: 1662.93 max: 1876\n"
     ]
    },
    {
     "name": "stderr",
     "output_type": "stream",
     "text": [
      "100%|███████████████████████████████████████████| 50/50 [08:55<00:00, 10.72s/it]\n"
     ]
    },
    {
     "name": "stdout",
     "output_type": "stream",
     "text": [
      "50\n",
      "[16, 36, 14, 44, 32, 38, 9, 29, 33, 49, 8, 48, 4, 37, 10, 31, 0, 21, 1, 15, 20, 28, 19, 34, 35, 2, 27, 30, 7, 25, 6, 42, 23, 22, 47, 5, 26, 50, 45, 11, 46, 3, 17, 13, 24, 12, 40, 39, 18, 41, 43]\n",
      "200 min: 427 avg: 427.71 max: 505\n",
      "\n",
      "200 min: 1412 avg: 1662.93 max: 1876\n"
     ]
    },
    {
     "name": "stderr",
     "output_type": "stream",
     "text": [
      "100%|███████████████████████████████████████████| 50/50 [08:56<00:00, 10.72s/it]\n"
     ]
    },
    {
     "name": "stdout",
     "output_type": "stream",
     "text": [
      "50\n",
      "[39, 18, 40, 12, 24, 13, 17, 3, 46, 11, 45, 50, 26, 5, 47, 22, 23, 42, 6, 25, 7, 30, 27, 2, 35, 34, 19, 28, 20, 15, 1, 21, 0, 31, 10, 37, 4, 48, 8, 49, 33, 29, 9, 38, 32, 44, 14, 36, 16, 43, 41]\n",
      "200 min: 427 avg: 428.155 max: 519\n",
      "\n",
      "200 min: 1412 avg: 1662.93 max: 1876\n"
     ]
    },
    {
     "name": "stderr",
     "output_type": "stream",
     "text": [
      "100%|███████████████████████████████████████████| 50/50 [08:38<00:00, 10.37s/it]\n"
     ]
    },
    {
     "name": "stdout",
     "output_type": "stream",
     "text": [
      "50\n",
      "[6, 42, 23, 22, 47, 5, 26, 50, 45, 11, 46, 3, 17, 13, 24, 12, 40, 39, 18, 41, 43, 16, 36, 14, 44, 32, 38, 9, 29, 8, 48, 4, 37, 10, 31, 0, 21, 1, 15, 49, 33, 20, 28, 19, 34, 35, 2, 27, 30, 7, 25]\n",
      "200 min: 427 avg: 428.585 max: 491\n",
      "\n",
      "200 min: 1412 avg: 1662.93 max: 1876\n"
     ]
    },
    {
     "name": "stderr",
     "output_type": "stream",
     "text": [
      "100%|███████████████████████████████████████████| 50/50 [08:45<00:00, 10.51s/it]\n"
     ]
    },
    {
     "name": "stdout",
     "output_type": "stream",
     "text": [
      "50\n",
      "[45, 50, 26, 5, 47, 22, 23, 42, 6, 25, 7, 30, 27, 2, 35, 34, 19, 28, 20, 15, 1, 21, 0, 31, 10, 37, 4, 48, 8, 49, 33, 29, 9, 38, 32, 44, 14, 36, 16, 43, 41, 39, 18, 40, 12, 24, 13, 17, 3, 46, 11]\n",
      "200 min: 427 avg: 430.4 max: 511\n",
      "\n",
      "200 min: 1412 avg: 1662.93 max: 1876\n"
     ]
    },
    {
     "name": "stderr",
     "output_type": "stream",
     "text": [
      "100%|███████████████████████████████████████████| 50/50 [10:00<00:00, 12.00s/it]"
     ]
    },
    {
     "name": "stdout",
     "output_type": "stream",
     "text": [
      "50\n",
      "[17, 3, 46, 11, 45, 50, 26, 5, 47, 22, 23, 42, 6, 25, 7, 30, 27, 2, 35, 34, 19, 28, 20, 15, 1, 21, 0, 31, 10, 37, 4, 48, 8, 49, 33, 29, 9, 38, 32, 44, 14, 36, 16, 43, 41, 39, 18, 40, 12, 24, 13]\n",
      "200 min: 427 avg: 427.425 max: 434\n",
      "\n"
     ]
    },
    {
     "name": "stderr",
     "output_type": "stream",
     "text": [
      "\n"
     ]
    }
   ],
   "source": [
    "jac_tolk_time = []\n",
    "jac_tolk_ans = []\n",
    "for cnt in [5, 10, 20, 40, 60]:\n",
    "    start_time = time.time()\n",
    "    jac_tolk_ans.append(genetic_jaccard(n_vertex, graph, 200, dbscan, jaccard_distance, population,\n",
    "                        mutation_prob=0.4, alp=cnt*(-1), bet=cnt, max_iter=50, hunter_prob=0.25, balans=False, plot=False))\n",
    "    \n",
    "    jac_tolk_time.append(time.time() - start_time)\n",
    "    print()"
   ]
  },
  {
   "cell_type": "code",
   "execution_count": 47,
   "id": "a4795bbe",
   "metadata": {
    "scrolled": true
   },
   "outputs": [
    {
     "name": "stdout",
     "output_type": "stream",
     "text": [
      "200 min: 1412 avg: 1662.93 max: 1876\n"
     ]
    },
    {
     "name": "stderr",
     "output_type": "stream",
     "text": [
      "100%|███████████████████████████████████████████| 50/50 [08:56<00:00, 10.73s/it]\n"
     ]
    },
    {
     "name": "stdout",
     "output_type": "stream",
     "text": [
      "50\n",
      "[16, 36, 14, 44, 32, 38, 9, 29, 33, 49, 8, 48, 4, 37, 10, 31, 0, 21, 1, 15, 20, 28, 19, 34, 35, 2, 27, 30, 7, 25, 6, 42, 23, 22, 47, 5, 26, 50, 45, 11, 46, 3, 17, 13, 24, 12, 40, 39, 18, 41, 43]\n",
      "200 min: 427 avg: 428.205 max: 508\n",
      "\n",
      "200 min: 1412 avg: 1662.93 max: 1876\n"
     ]
    },
    {
     "name": "stderr",
     "output_type": "stream",
     "text": [
      "100%|███████████████████████████████████████████| 50/50 [08:42<00:00, 10.45s/it]\n"
     ]
    },
    {
     "name": "stdout",
     "output_type": "stream",
     "text": [
      "50\n",
      "[16, 36, 14, 44, 32, 38, 9, 48, 4, 37, 10, 31, 0, 21, 1, 15, 49, 8, 29, 33, 20, 28, 19, 34, 35, 2, 27, 30, 7, 25, 6, 42, 23, 22, 47, 5, 26, 50, 45, 11, 46, 3, 17, 13, 24, 12, 40, 39, 18, 41, 43]\n",
      "200 min: 427 avg: 427.985 max: 463\n",
      "\n",
      "200 min: 1412 avg: 1662.93 max: 1876\n"
     ]
    },
    {
     "name": "stderr",
     "output_type": "stream",
     "text": [
      "100%|███████████████████████████████████████████| 50/50 [09:30<00:00, 11.41s/it]\n"
     ]
    },
    {
     "name": "stdout",
     "output_type": "stream",
     "text": [
      "50\n",
      "[7, 25, 6, 42, 23, 22, 47, 5, 26, 50, 45, 11, 46, 3, 17, 13, 24, 12, 40, 39, 18, 41, 43, 16, 36, 14, 44, 32, 38, 9, 29, 33, 49, 8, 48, 4, 37, 10, 31, 0, 21, 1, 15, 20, 28, 19, 34, 35, 2, 27, 30]\n",
      "200 min: 427 avg: 430.75 max: 522\n",
      "\n",
      "200 min: 1412 avg: 1662.93 max: 1876\n"
     ]
    },
    {
     "name": "stderr",
     "output_type": "stream",
     "text": [
      "100%|███████████████████████████████████████████| 50/50 [09:02<00:00, 10.85s/it]\n"
     ]
    },
    {
     "name": "stdout",
     "output_type": "stream",
     "text": [
      "50\n",
      "[36, 16, 43, 41, 18, 39, 40, 12, 24, 13, 17, 3, 46, 11, 45, 50, 26, 5, 47, 22, 23, 42, 6, 25, 7, 30, 27, 2, 35, 34, 19, 28, 20, 15, 1, 21, 0, 31, 10, 37, 4, 48, 8, 49, 33, 29, 9, 38, 32, 44, 14]\n",
      "200 min: 427 avg: 428.88 max: 517\n",
      "\n",
      "200 min: 1412 avg: 1662.93 max: 1876\n"
     ]
    },
    {
     "name": "stderr",
     "output_type": "stream",
     "text": [
      "100%|███████████████████████████████████████████| 50/50 [10:10<00:00, 12.21s/it]"
     ]
    },
    {
     "name": "stdout",
     "output_type": "stream",
     "text": [
      "50\n",
      "[2, 35, 34, 19, 28, 20, 15, 1, 21, 0, 31, 10, 37, 4, 48, 8, 49, 33, 29, 9, 38, 32, 44, 14, 36, 16, 43, 41, 18, 39, 40, 12, 24, 13, 17, 3, 46, 11, 45, 50, 26, 5, 47, 22, 23, 42, 6, 25, 7, 30, 27]\n",
      "200 min: 427 avg: 427.135 max: 437\n",
      "\n"
     ]
    },
    {
     "name": "stderr",
     "output_type": "stream",
     "text": [
      "\n"
     ]
    }
   ],
   "source": [
    "cen_tolk_time = []\n",
    "cen_tolk_ans = []\n",
    "for cnt in [5, 10, 20, 40, 60]:\n",
    "    start_time = time.time()\n",
    "    cen_tolk_ans.append(genetic_centre(n_vertex, graph, 200, dbscan, jaccard_distance, population,\n",
    "                        mutation_prob=0.4, alp=cnt*(-1), bet=cnt, max_iter=50, hunter_prob=0.25, balans=False, plot=False))\n",
    "\n",
    "    cen_tolk_time.append(time.time() - start_time)\n",
    "    print()"
   ]
  },
  {
   "cell_type": "markdown",
   "id": "030a482d",
   "metadata": {},
   "source": [
    "### Отталкивание c балансировкой"
   ]
  },
  {
   "cell_type": "code",
   "execution_count": 48,
   "id": "cd005818",
   "metadata": {
    "scrolled": true
   },
   "outputs": [
    {
     "name": "stdout",
     "output_type": "stream",
     "text": [
      "200 min: 1412 avg: 1662.93 max: 1876\n"
     ]
    },
    {
     "name": "stderr",
     "output_type": "stream",
     "text": [
      "100%|███████████████████████████████████████████| 50/50 [01:29<00:00,  1.80s/it]\n"
     ]
    },
    {
     "name": "stdout",
     "output_type": "stream",
     "text": [
      "50\n",
      "[48, 8, 49, 33, 29, 9, 38, 32, 44, 14, 36, 16, 43, 41, 18, 39, 40, 12, 24, 13, 17, 3, 46, 11, 45, 50, 26, 5, 47, 22, 23, 42, 6, 25, 7, 30, 27, 2, 35, 34, 19, 28, 20, 15, 1, 21, 0, 31, 10, 37, 4]\n",
      "200 min: 427 avg: 428.53 max: 483\n",
      "\n",
      "200 min: 1412 avg: 1662.93 max: 1876\n"
     ]
    },
    {
     "name": "stderr",
     "output_type": "stream",
     "text": [
      "100%|███████████████████████████████████████████| 50/50 [01:33<00:00,  1.87s/it]\n"
     ]
    },
    {
     "name": "stdout",
     "output_type": "stream",
     "text": [
      "50\n",
      "[39, 18, 41, 43, 16, 36, 14, 44, 32, 9, 38, 29, 33, 20, 28, 15, 49, 8, 48, 4, 37, 10, 31, 0, 21, 1, 19, 34, 35, 2, 27, 30, 25, 7, 47, 22, 6, 42, 23, 24, 13, 5, 26, 50, 45, 11, 46, 3, 17, 12, 40]\n",
      "200 min: 427 avg: 433.34 max: 532\n",
      "\n",
      "200 min: 1412 avg: 1662.93 max: 1876\n"
     ]
    },
    {
     "name": "stderr",
     "output_type": "stream",
     "text": [
      "100%|███████████████████████████████████████████| 50/50 [01:33<00:00,  1.88s/it]\n"
     ]
    },
    {
     "name": "stdout",
     "output_type": "stream",
     "text": [
      "50\n",
      "[7, 25, 6, 42, 23, 22, 5, 47, 26, 45, 50, 11, 46, 3, 17, 13, 24, 12, 40, 18, 39, 41, 43, 16, 36, 14, 44, 32, 38, 9, 29, 8, 48, 4, 37, 10, 31, 0, 21, 1, 15, 49, 33, 20, 28, 19, 34, 35, 2, 27, 30]\n",
      "200 min: 427 avg: 437.64 max: 518\n",
      "\n",
      "200 min: 1412 avg: 1662.93 max: 1876\n"
     ]
    },
    {
     "name": "stderr",
     "output_type": "stream",
     "text": [
      "100%|███████████████████████████████████████████| 50/50 [01:35<00:00,  1.91s/it]\n"
     ]
    },
    {
     "name": "stdout",
     "output_type": "stream",
     "text": [
      "50\n",
      "[13, 24, 12, 40, 39, 18, 41, 43, 16, 36, 14, 44, 32, 38, 9, 29, 33, 49, 20, 28, 15, 8, 37, 48, 4, 10, 31, 0, 21, 1, 19, 34, 35, 2, 27, 30, 25, 7, 47, 22, 6, 42, 23, 5, 26, 45, 50, 11, 46, 3, 17]\n",
      "200 min: 430 avg: 442.85 max: 514\n",
      "\n",
      "200 min: 1412 avg: 1662.93 max: 1876\n"
     ]
    },
    {
     "name": "stderr",
     "output_type": "stream",
     "text": [
      "100%|███████████████████████████████████████████| 50/50 [01:36<00:00,  1.92s/it]"
     ]
    },
    {
     "name": "stdout",
     "output_type": "stream",
     "text": [
      "50\n",
      "[26, 50, 45, 4, 11, 46, 3, 17, 24, 12, 40, 18, 39, 41, 43, 16, 36, 14, 44, 32, 9, 38, 29, 33, 20, 28, 15, 49, 8, 48, 37, 10, 31, 0, 21, 1, 19, 34, 35, 2, 27, 30, 7, 25, 6, 22, 42, 23, 13, 5, 47]\n",
      "200 min: 432 avg: 458.765 max: 525\n",
      "\n"
     ]
    },
    {
     "name": "stderr",
     "output_type": "stream",
     "text": [
      "\n"
     ]
    }
   ],
   "source": [
    "mtr_tolk_bal_time = []\n",
    "mtr_tolk_bal_ans = []\n",
    "for cnt in [0.05, 0.1, 0.15, 0.25, 0.4]:\n",
    "    start_time = time.time()\n",
    "    mtr_tolk_bal_ans.append(genetic_mtr(n_vertex, graph, 200, dbscan, jaccard_distance, population,\n",
    "                        mutation_prob=0.4, alp=cnt, bet=cnt*(-1), max_iter=50, hunter_prob=0.25, balans=True, plot=False))\n",
    "\n",
    "    mtr_tolk_bal_time.append(time.time() - start_time)\n",
    "    print()"
   ]
  },
  {
   "cell_type": "code",
   "execution_count": 49,
   "id": "ba80cbe6",
   "metadata": {
    "scrolled": true
   },
   "outputs": [
    {
     "name": "stdout",
     "output_type": "stream",
     "text": [
      "200 min: 1412 avg: 1662.93 max: 1876\n"
     ]
    },
    {
     "name": "stderr",
     "output_type": "stream",
     "text": [
      "100%|███████████████████████████████████████████| 50/50 [06:59<00:00,  8.38s/it]\n"
     ]
    },
    {
     "name": "stdout",
     "output_type": "stream",
     "text": [
      "50\n",
      "[18, 40, 12, 24, 13, 17, 3, 46, 11, 45, 50, 26, 5, 47, 22, 23, 42, 6, 25, 7, 30, 27, 2, 35, 34, 19, 28, 20, 15, 1, 21, 0, 31, 10, 37, 4, 48, 8, 49, 33, 29, 9, 38, 32, 44, 14, 36, 16, 43, 41, 39]\n",
      "200 min: 427 avg: 427.465 max: 486\n",
      "\n",
      "200 min: 1412 avg: 1662.93 max: 1876\n"
     ]
    },
    {
     "name": "stderr",
     "output_type": "stream",
     "text": [
      "100%|███████████████████████████████████████████| 50/50 [10:11<00:00, 12.23s/it]\n"
     ]
    },
    {
     "name": "stdout",
     "output_type": "stream",
     "text": [
      "50\n",
      "[18, 40, 12, 24, 13, 17, 3, 46, 11, 45, 50, 26, 5, 47, 22, 23, 42, 6, 25, 7, 30, 27, 2, 35, 34, 19, 28, 20, 15, 1, 21, 0, 31, 10, 37, 4, 48, 8, 49, 33, 29, 9, 38, 32, 44, 14, 36, 16, 43, 41, 39]\n",
      "200 min: 427 avg: 429.55 max: 494\n",
      "\n",
      "200 min: 1412 avg: 1662.93 max: 1876\n"
     ]
    },
    {
     "name": "stderr",
     "output_type": "stream",
     "text": [
      "100%|███████████████████████████████████████████| 50/50 [07:24<00:00,  8.89s/it]\n"
     ]
    },
    {
     "name": "stdout",
     "output_type": "stream",
     "text": [
      "50\n",
      "[40, 12, 24, 13, 17, 3, 46, 11, 45, 50, 26, 5, 47, 22, 23, 42, 6, 25, 7, 30, 27, 2, 35, 34, 19, 28, 20, 33, 49, 15, 1, 21, 0, 31, 10, 37, 4, 48, 8, 29, 9, 38, 32, 44, 14, 36, 16, 43, 41, 18, 39]\n",
      "200 min: 427 avg: 428.125 max: 475\n",
      "\n",
      "200 min: 1412 avg: 1662.93 max: 1876\n"
     ]
    },
    {
     "name": "stderr",
     "output_type": "stream",
     "text": [
      "100%|███████████████████████████████████████████| 50/50 [08:39<00:00, 10.39s/it]\n"
     ]
    },
    {
     "name": "stdout",
     "output_type": "stream",
     "text": [
      "50\n",
      "[28, 19, 34, 35, 2, 27, 30, 7, 25, 6, 42, 23, 22, 47, 5, 26, 50, 45, 11, 46, 3, 17, 13, 24, 12, 40, 18, 39, 41, 43, 16, 36, 14, 44, 32, 38, 9, 48, 4, 37, 10, 31, 0, 21, 1, 15, 49, 8, 29, 33, 20]\n",
      "200 min: 427 avg: 427.145 max: 434\n",
      "\n",
      "200 min: 1412 avg: 1662.93 max: 1876\n"
     ]
    },
    {
     "name": "stderr",
     "output_type": "stream",
     "text": [
      "100%|███████████████████████████████████████████| 50/50 [12:04<00:00, 14.49s/it]"
     ]
    },
    {
     "name": "stdout",
     "output_type": "stream",
     "text": [
      "50\n",
      "[31, 0, 21, 1, 15, 20, 28, 19, 34, 35, 2, 27, 30, 25, 7, 47, 22, 6, 42, 23, 24, 13, 5, 26, 50, 45, 11, 46, 3, 17, 12, 40, 18, 39, 41, 43, 16, 36, 14, 44, 32, 38, 9, 29, 33, 49, 8, 48, 4, 37, 10]\n",
      "200 min: 427 avg: 429.155 max: 501\n",
      "\n"
     ]
    },
    {
     "name": "stderr",
     "output_type": "stream",
     "text": [
      "\n"
     ]
    }
   ],
   "source": [
    "jac_tolk_bal_time = []\n",
    "jac_tolk_bal_ans = []\n",
    "for cnt in [0.05, 0.1, 0.15, 0.25, 0.4]:\n",
    "    start_time = time.time()\n",
    "    jac_tolk_bal_ans.append(genetic_jaccard(n_vertex, graph, 200, dbscan, jaccard_distance, population,\n",
    "                        mutation_prob=0.4, alp=cnt*(-1), bet=cnt, max_iter=50, hunter_prob=0.25, balans=True, plot=False))\n",
    "\n",
    "    jac_tolk_bal_time.append(time.time() - start_time)\n",
    "    print()"
   ]
  },
  {
   "cell_type": "code",
   "execution_count": 50,
   "id": "3db2803c",
   "metadata": {
    "scrolled": true
   },
   "outputs": [
    {
     "name": "stdout",
     "output_type": "stream",
     "text": [
      "200 min: 1412 avg: 1662.93 max: 1876\n"
     ]
    },
    {
     "name": "stderr",
     "output_type": "stream",
     "text": [
      "100%|███████████████████████████████████████████| 50/50 [09:54<00:00, 11.89s/it]\n"
     ]
    },
    {
     "name": "stdout",
     "output_type": "stream",
     "text": [
      "50\n",
      "[18, 39, 40, 12, 24, 13, 17, 3, 46, 11, 45, 50, 26, 5, 47, 22, 23, 42, 6, 25, 7, 30, 27, 2, 35, 34, 19, 28, 20, 15, 1, 21, 0, 31, 10, 37, 4, 48, 8, 49, 33, 29, 9, 38, 32, 44, 14, 36, 16, 43, 41]\n",
      "200 min: 427 avg: 428.085 max: 476\n",
      "\n",
      "200 min: 1412 avg: 1662.93 max: 1876\n"
     ]
    },
    {
     "name": "stderr",
     "output_type": "stream",
     "text": [
      "100%|███████████████████████████████████████████| 50/50 [09:31<00:00, 11.44s/it]\n"
     ]
    },
    {
     "name": "stdout",
     "output_type": "stream",
     "text": [
      "50\n",
      "[18, 39, 40, 12, 24, 13, 17, 3, 46, 11, 45, 50, 26, 5, 47, 22, 23, 42, 6, 25, 7, 30, 27, 2, 35, 34, 19, 28, 20, 15, 1, 21, 0, 31, 10, 37, 4, 48, 8, 49, 33, 29, 9, 38, 32, 44, 14, 36, 16, 43, 41]\n",
      "200 min: 427 avg: 427.995 max: 505\n",
      "\n",
      "200 min: 1412 avg: 1662.93 max: 1876\n"
     ]
    },
    {
     "name": "stderr",
     "output_type": "stream",
     "text": [
      "100%|███████████████████████████████████████████| 50/50 [08:33<00:00, 10.28s/it]\n"
     ]
    },
    {
     "name": "stdout",
     "output_type": "stream",
     "text": [
      "50\n",
      "[34, 35, 2, 27, 30, 7, 25, 6, 42, 23, 22, 47, 5, 26, 50, 45, 11, 46, 3, 17, 13, 24, 12, 40, 39, 18, 41, 43, 16, 36, 14, 44, 32, 38, 9, 29, 33, 49, 8, 48, 4, 37, 10, 31, 0, 21, 1, 15, 20, 28, 19]\n",
      "200 min: 427 avg: 428.2 max: 550\n",
      "\n",
      "200 min: 1412 avg: 1662.93 max: 1876\n"
     ]
    },
    {
     "name": "stderr",
     "output_type": "stream",
     "text": [
      "100%|███████████████████████████████████████████| 50/50 [10:17<00:00, 12.35s/it]\n"
     ]
    },
    {
     "name": "stdout",
     "output_type": "stream",
     "text": [
      "50\n",
      "[16, 36, 14, 44, 32, 38, 9, 29, 33, 49, 8, 48, 4, 37, 10, 31, 0, 21, 1, 15, 20, 28, 19, 34, 35, 2, 27, 30, 7, 25, 6, 42, 23, 22, 47, 5, 26, 50, 45, 11, 46, 3, 17, 13, 24, 12, 40, 39, 18, 41, 43]\n",
      "200 min: 427 avg: 428.735 max: 506\n",
      "\n",
      "200 min: 1412 avg: 1662.93 max: 1876\n"
     ]
    },
    {
     "name": "stderr",
     "output_type": "stream",
     "text": [
      "100%|███████████████████████████████████████████| 50/50 [10:06<00:00, 12.12s/it]"
     ]
    },
    {
     "name": "stdout",
     "output_type": "stream",
     "text": [
      "50\n",
      "[40, 12, 24, 13, 17, 3, 46, 11, 45, 50, 26, 5, 47, 22, 23, 42, 6, 25, 7, 30, 27, 2, 35, 34, 19, 28, 20, 15, 1, 21, 0, 31, 10, 37, 4, 48, 8, 49, 33, 29, 9, 38, 32, 44, 14, 36, 16, 43, 41, 18, 39]\n",
      "200 min: 427 avg: 427.35 max: 467\n",
      "\n"
     ]
    },
    {
     "name": "stderr",
     "output_type": "stream",
     "text": [
      "\n"
     ]
    }
   ],
   "source": [
    "cen_tolk_bal_time = []\n",
    "cen_tolk_bal_ans = []\n",
    "for cnt in [0.05, 0.1, 0.15, 0.25, 0.4]:\n",
    "    start_time = time.time()\n",
    "    cen_tolk_bal_ans.append(genetic_centre(n_vertex, graph, 200, dbscan, jaccard_distance, population,\n",
    "                        mutation_prob=0.4, alp=cnt, bet=cnt*(-1), max_iter=50, hunter_prob=0.25, balans=False, plot=False))\n",
    "\n",
    "    cen_tolk_bal_time.append(time.time() - start_time)\n",
    "    print()"
   ]
  },
  {
   "cell_type": "code",
   "execution_count": 56,
   "id": "c5770c09",
   "metadata": {},
   "outputs": [],
   "source": [
    "table_time = []\n",
    "table_time.append(jac_hunt_time)\n",
    "table_time.append(jac_tolk_time)\n",
    "table_time.append(jac_hunt_bal_time)\n",
    "table_time.append(jac_tolk_bal_time)\n",
    "table_time.append(mtr_hunt_time)\n",
    "table_time.append(mtr_tolk_time)\n",
    "table_time.append(mtr_hunt_bal_time)\n",
    "table_time.append(mtr_tolk_bal_time)\n",
    "table_time.append(cen_hunt_time)\n",
    "table_time.append(cen_tolk_time)\n",
    "table_time.append(cen_hunt_bal_time)\n",
    "table_time.append(cen_tolk_bal_time)"
   ]
  },
  {
   "cell_type": "code",
   "execution_count": 86,
   "id": "59d85dfa",
   "metadata": {},
   "outputs": [],
   "source": [
    "table_ans = []\n",
    "table_ans.append(jac_hunt_ans)\n",
    "table_ans.append(jac_tolk_ans)\n",
    "table_ans.append(jac_hunt_bal_ans)\n",
    "table_ans.append(jac_tolk_bal_ans)\n",
    "table_ans.append(mtr_hunt_ans)\n",
    "table_ans.append(mtr_tolk_ans)\n",
    "table_ans.append(mtr_hunt_bal_ans)\n",
    "table_ans.append(mtr_tolk_bal_ans)\n",
    "table_ans.append(cen_hunt_ans)\n",
    "table_ans.append(cen_tolk_ans)\n",
    "table_ans.append(cen_hunt_bal_ans)\n",
    "table_ans.append(cen_tolk_bal_ans)"
   ]
  },
  {
   "cell_type": "code",
   "execution_count": 89,
   "id": "b6693367",
   "metadata": {},
   "outputs": [],
   "source": [
    "table_name = []\n",
    "table_name.append('jac_hunt')\n",
    "table_name.append('jac_tolk')\n",
    "table_name.append('jac_hunt_bal')\n",
    "table_name.append('jac_tolk_bal')\n",
    "table_name.append('mtr_hunt')\n",
    "table_name.append('mtr_tolk')\n",
    "table_name.append('mtr_hunt_bal')\n",
    "table_name.append('mtr_tolk_bal_ans')\n",
    "table_name.append('cen_hunt_ans')\n",
    "table_name.append('cen_tolk_ans')\n",
    "table_name.append('cen_hunt_bal_ans')\n",
    "table_ans.append('cen_tolk_bal')"
   ]
  },
  {
   "cell_type": "code",
   "execution_count": 75,
   "id": "ab94d985",
   "metadata": {},
   "outputs": [],
   "source": [
    "# Mtr = []\n",
    "# Mtr.append(['classic', classic_ans[-1][0], classic_ans[-1][1], classic_ans[-1][2], classic_time, 17])\n",
    "# Mtr.append(['clust', clust_ans[-1][0], clust_ans[-1][1], clust_ans[-1][2], clust_time, 50])\n",
    "# iters_ = []\n",
    "# for i, tab in enumerate(table_ans):\n",
    "#     s = 0\n",
    "#     for tim in table_time[i]:\n",
    "#         s += tim\n",
    "#     s /= len(table_time[i])\n",
    "    \n",
    "#     min_ = 100000.0\n",
    "#     avg_ = 0\n",
    "#     max_ = 0\n",
    "#     iter_ = 0\n",
    "#     for j, el in enumerate(tab):\n",
    "#         if min_ > el[-1][0]:\n",
    "#             min_ = el[-1][0]\n",
    "#             iter_ = j\n",
    "#             avg_ = el[-1][1]\n",
    "#             max_ = el[-1][2]\n",
    "#     iters_.append(iter_)\n",
    "#     Mtr.append([table_name[i], min_, avg_, max_, s, 50])"
   ]
  }
 ],
 "metadata": {
  "kernelspec": {
   "display_name": "Python 3 (ipykernel)",
   "language": "python",
   "name": "python3"
  },
  "language_info": {
   "codemirror_mode": {
    "name": "ipython",
    "version": 3
   },
   "file_extension": ".py",
   "mimetype": "text/x-python",
   "name": "python",
   "nbconvert_exporter": "python",
   "pygments_lexer": "ipython3",
   "version": "3.9.5"
  }
 },
 "nbformat": 4,
 "nbformat_minor": 5
}
